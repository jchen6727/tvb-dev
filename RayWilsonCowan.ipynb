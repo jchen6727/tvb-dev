{
 "cells": [
  {
   "cell_type": "markdown",
   "metadata": {},
   "source": [
    "import statements"
   ]
  },
  {
   "cell_type": "code",
   "execution_count": 1,
   "metadata": {
    "pycharm": {
     "is_executing": true
    }
   },
   "outputs": [
    {
     "data": {
      "text/plain": [
       "<Figure size 640x480 with 0 Axes>"
      ]
     },
     "metadata": {},
     "output_type": "display_data"
    }
   ],
   "source": [
    "import os, time\n",
    "import numpy as np\n",
    "\n",
    "\"\"\"\n",
    "tvb root imports\n",
    "\"\"\"\n",
    "from tvb.basic.profile import TvbProfile\n",
    "from tvb.contrib.scripts.datatypes.time_series_xarray import TimeSeriesRegion as TimeSeriesXarray\n",
    "from tvb.datatypes.connectivity import Connectivity\n",
    "\n",
    "\"\"\"\n",
    "tvb multiscale core imports\n",
    "\"\"\"\n",
    "from tvb_multiscale.core.tvb.cosimulator.cosimulator_builder import CoSimulatorSerialBuilder\n",
    "from tvb_multiscale.core.plot.plotter import Plotter\n",
    "from tvb_multiscale.core.interfaces.base.transformers.models.red_wong_wang import \\\n",
    "    ElephantSpikesRateRedWongWangExc, ElephantSpikesRateRedWongWangInh\n",
    "from tvb_multiscale.core.tvb.cosimulator.models.reduced_wong_wang_exc_io_inh_i import ReducedWongWangExcIOInhI\n",
    "from tvb_multiscale.core.data_analysis.spiking_network_analyser import SpikingNetworkAnalyser\n",
    "\n",
    "\"\"\"\n",
    "tvb multiscale netpyne import\n",
    "\"\"\"\n",
    "from tvb_multiscale.tvb_netpyne.config import *\n",
    "from tvb_multiscale.tvb_netpyne.netpyne_models.builders.netpyne_factory import load_netpyne\n",
    "from tvb_multiscale.tvb_netpyne.netpyne_models.builders.base import NetpyneNetworkBuilder\n",
    "from tvb_multiscale.tvb_netpyne.interfaces.builders import TVBNetpyneInterfaceBuilder\n",
    "\n",
    "\"\"\"\n",
    "netpyne import\n",
    "\"\"\"\n",
    "from netpyne import specs\n"
   ]
  },
  {
   "cell_type": "code",
   "execution_count": null,
   "metadata": {},
   "outputs": [],
   "source": []
  }
 ],
 "metadata": {
  "kernelspec": {
   "display_name": "Python 3 (ipykernel)",
   "language": "python",
   "name": "python3"
  },
  "language_info": {
   "codemirror_mode": {
    "name": "ipython",
    "version": 3
   },
   "file_extension": ".py",
   "mimetype": "text/x-python",
   "name": "python",
   "nbconvert_exporter": "python",
   "pygments_lexer": "ipython3",
   "version": "3.10.9"
  }
 },
 "nbformat": 4,
 "nbformat_minor": 1
}
